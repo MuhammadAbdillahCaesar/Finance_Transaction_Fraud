{
  "metadata": {
    "kernelspec": {
      "language": "python",
      "display_name": "Python 3",
      "name": "python3"
    },
    "language_info": {
      "name": "python",
      "version": "3.7.10",
      "mimetype": "text/x-python",
      "codemirror_mode": {
        "name": "ipython",
        "version": 3
      },
      "pygments_lexer": "ipython3",
      "nbconvert_exporter": "python",
      "file_extension": ".py"
    },
    "colab": {
      "provenance": []
    }
  },
  "nbformat_minor": 0,
  "nbformat": 4,
  "cells": [
    {
      "cell_type": "code",
      "source": [
        "#Basic libraries\n",
        "import pandas as pd\n",
        "import numpy as np\n",
        "\n",
        "#Visualization libraries\n",
        "import seaborn as sns\n",
        "import matplotlib.pyplot as plt\n",
        "import plotly.express as px\n",
        "import plotly.graph_objects as go\n",
        "from plotly.offline import plot, iplot, init_notebook_mode\n",
        "init_notebook_mode(connected=True)\n",
        "%matplotlib inline\n",
        "\n",
        "#preprocessing libraries\n",
        "from sklearn.preprocessing import StandardScaler\n",
        "from sklearn.model_selection import train_test_split\n",
        "\n",
        "#ML libraries\n",
        "import tensorflow as tf\n",
        "from sklearn.svm import SVC\n",
        "from sklearn.preprocessing import LabelEncoder\n",
        "from sklearn.preprocessing import StandardScaler\n",
        "from sklearn.ensemble import ExtraTreesClassifier\n",
        "from sklearn.pipeline import make_pipeline\n",
        "from sklearn.model_selection import GridSearchCV\n",
        "from sklearn.linear_model import LogisticRegression\n",
        "from sklearn.tree import DecisionTreeClassifier\n",
        "from sklearn.ensemble import RandomForestClassifier\n",
        "from sklearn.naive_bayes import GaussianNB\n",
        "from sklearn.neighbors import KNeighborsClassifier\n",
        "from sklearn.svm import SVC\n",
        "from sklearn.svm import LinearSVC\n",
        "from sklearn.pipeline import Pipeline\n",
        "\n",
        "#Metrics Libraries\n",
        "from sklearn import metrics\n",
        "from sklearn.metrics import classification_report\n",
        "from sklearn.model_selection import cross_val_score\n",
        "from sklearn.metrics import accuracy_score\n",
        "from sklearn.metrics import confusion_matrix\n",
        "\n",
        "\n",
        "\n",
        "#Misc libraries\n",
        "import warnings\n",
        "warnings.filterwarnings(\"ignore\")"
      ],
      "metadata": {
        "execution": {
          "iopub.status.busy": "2021-08-14T16:44:45.652684Z",
          "iopub.execute_input": "2021-08-14T16:44:45.653094Z",
          "iopub.status.idle": "2021-08-14T16:44:45.670791Z",
          "shell.execute_reply.started": "2021-08-14T16:44:45.653059Z",
          "shell.execute_reply": "2021-08-14T16:44:45.669723Z"
        },
        "trusted": true,
        "id": "E0oo0BT-A6jp",
        "outputId": "fdc77052-364e-4ff0-a723-b2778b5130b4"
      },
      "execution_count": null,
      "outputs": [
        {
          "output_type": "display_data",
          "data": {
            "text/html": "        <script type=\"text/javascript\">\n        window.PlotlyConfig = {MathJaxConfig: 'local'};\n        if (window.MathJax) {MathJax.Hub.Config({SVG: {font: \"STIX-Web\"}});}\n        if (typeof require !== 'undefined') {\n        require.undef(\"plotly\");\n        requirejs.config({\n            paths: {\n                'plotly': ['https://cdn.plot.ly/plotly-2.2.0.min']\n            }\n        });\n        require(['plotly'], function(Plotly) {\n            window._Plotly = Plotly;\n        });\n        }\n        </script>\n        "
          },
          "metadata": {}
        }
      ]
    },
    {
      "cell_type": "markdown",
      "source": [
        "# 🏧 Dataset\n",
        "> Here we just import the first 50000 rows since the dataset is huge and would take a long time to process. Let's see the overview of data"
      ],
      "metadata": {
        "id": "7zaHe8ItA6jq"
      }
    },
    {
      "cell_type": "code",
      "source": [
        "#Reading the data\n",
        "paysim=pd.read_csv('content/PS_20174392719_1491204439457_log.csv')\n",
        "\n",
        "#Looking at the data\n",
        "paysim.head()"
      ],
      "metadata": {
        "execution": {
          "iopub.status.busy": "2021-08-14T16:44:45.672202Z",
          "iopub.execute_input": "2021-08-14T16:44:45.672513Z",
          "iopub.status.idle": "2021-08-14T16:45:00.215558Z",
          "shell.execute_reply.started": "2021-08-14T16:44:45.672487Z",
          "shell.execute_reply": "2021-08-14T16:45:00.214437Z"
        },
        "trusted": true,
        "id": "Zb0c6yQqA6jq",
        "outputId": "31a134ad-b2db-4dbd-8cbd-66c546c2e8ef"
      },
      "execution_count": null,
      "outputs": [
        {
          "execution_count": 48,
          "output_type": "execute_result",
          "data": {
            "text/plain": "   step      type    amount     nameOrig  oldbalanceOrg  newbalanceOrig  \\\n0     1   PAYMENT   9839.64  C1231006815       170136.0       160296.36   \n1     1   PAYMENT   1864.28  C1666544295        21249.0        19384.72   \n2     1  TRANSFER    181.00  C1305486145          181.0            0.00   \n3     1  CASH_OUT    181.00   C840083671          181.0            0.00   \n4     1   PAYMENT  11668.14  C2048537720        41554.0        29885.86   \n\n      nameDest  oldbalanceDest  newbalanceDest  isFraud  isFlaggedFraud  \n0  M1979787155             0.0             0.0        0               0  \n1  M2044282225             0.0             0.0        0               0  \n2   C553264065             0.0             0.0        1               0  \n3    C38997010         21182.0             0.0        1               0  \n4  M1230701703             0.0             0.0        0               0  ",
            "text/html": "<div>\n<style scoped>\n    .dataframe tbody tr th:only-of-type {\n        vertical-align: middle;\n    }\n\n    .dataframe tbody tr th {\n        vertical-align: top;\n    }\n\n    .dataframe thead th {\n        text-align: right;\n    }\n</style>\n<table border=\"1\" class=\"dataframe\">\n  <thead>\n    <tr style=\"text-align: right;\">\n      <th></th>\n      <th>step</th>\n      <th>type</th>\n      <th>amount</th>\n      <th>nameOrig</th>\n      <th>oldbalanceOrg</th>\n      <th>newbalanceOrig</th>\n      <th>nameDest</th>\n      <th>oldbalanceDest</th>\n      <th>newbalanceDest</th>\n      <th>isFraud</th>\n      <th>isFlaggedFraud</th>\n    </tr>\n  </thead>\n  <tbody>\n    <tr>\n      <th>0</th>\n      <td>1</td>\n      <td>PAYMENT</td>\n      <td>9839.64</td>\n      <td>C1231006815</td>\n      <td>170136.0</td>\n      <td>160296.36</td>\n      <td>M1979787155</td>\n      <td>0.0</td>\n      <td>0.0</td>\n      <td>0</td>\n      <td>0</td>\n    </tr>\n    <tr>\n      <th>1</th>\n      <td>1</td>\n      <td>PAYMENT</td>\n      <td>1864.28</td>\n      <td>C1666544295</td>\n      <td>21249.0</td>\n      <td>19384.72</td>\n      <td>M2044282225</td>\n      <td>0.0</td>\n      <td>0.0</td>\n      <td>0</td>\n      <td>0</td>\n    </tr>\n    <tr>\n      <th>2</th>\n      <td>1</td>\n      <td>TRANSFER</td>\n      <td>181.00</td>\n      <td>C1305486145</td>\n      <td>181.0</td>\n      <td>0.00</td>\n      <td>C553264065</td>\n      <td>0.0</td>\n      <td>0.0</td>\n      <td>1</td>\n      <td>0</td>\n    </tr>\n    <tr>\n      <th>3</th>\n      <td>1</td>\n      <td>CASH_OUT</td>\n      <td>181.00</td>\n      <td>C840083671</td>\n      <td>181.0</td>\n      <td>0.00</td>\n      <td>C38997010</td>\n      <td>21182.0</td>\n      <td>0.0</td>\n      <td>1</td>\n      <td>0</td>\n    </tr>\n    <tr>\n      <th>4</th>\n      <td>1</td>\n      <td>PAYMENT</td>\n      <td>11668.14</td>\n      <td>C2048537720</td>\n      <td>41554.0</td>\n      <td>29885.86</td>\n      <td>M1230701703</td>\n      <td>0.0</td>\n      <td>0.0</td>\n      <td>0</td>\n      <td>0</td>\n    </tr>\n  </tbody>\n</table>\n</div>"
          },
          "metadata": {}
        }
      ]
    },
    {
      "cell_type": "code",
      "source": [
        "paysim.info()"
      ],
      "metadata": {
        "execution": {
          "iopub.status.busy": "2021-08-14T16:45:00.217525Z",
          "iopub.execute_input": "2021-08-14T16:45:00.217823Z",
          "iopub.status.idle": "2021-08-14T16:45:00.230856Z",
          "shell.execute_reply.started": "2021-08-14T16:45:00.217796Z",
          "shell.execute_reply": "2021-08-14T16:45:00.229762Z"
        },
        "trusted": true,
        "id": "30QpFiI-A6jq",
        "outputId": "d45b83e1-7967-4fae-f339-a89fafce2c82"
      },
      "execution_count": null,
      "outputs": [
        {
          "name": "stdout",
          "text": "<class 'pandas.core.frame.DataFrame'>\nRangeIndex: 6362620 entries, 0 to 6362619\nData columns (total 11 columns):\n #   Column          Dtype  \n---  ------          -----  \n 0   step            int64  \n 1   type            object \n 2   amount          float64\n 3   nameOrig        object \n 4   oldbalanceOrg   float64\n 5   newbalanceOrig  float64\n 6   nameDest        object \n 7   oldbalanceDest  float64\n 8   newbalanceDest  float64\n 9   isFraud         int64  \n 10  isFlaggedFraud  int64  \ndtypes: float64(5), int64(3), object(3)\nmemory usage: 534.0+ MB\n",
          "output_type": "stream"
        }
      ]
    },
    {
      "cell_type": "markdown",
      "source": [
        "### Dataset description\n",
        ">1. step - maps a unit of time in the real world. In this case 1 step is 1 hour of time. Total steps 744 (30 days simulation).\n",
        "2. type - CASH-IN, CASH-OUT, DEBIT, PAYMENT and TRANSFER.\n",
        "3. amount - amount of the transaction in local currency.\n",
        "4. nameOrig - customer who started the transaction\n",
        "5. oldbalanceOrg - initial balance before the transaction\n",
        "6. newbalanceOrig - new balance after the transaction\n",
        "7. nameDest - customer who is the recipient of the transaction\n",
        "8. oldbalanceDest - initial balance recipient before the transaction. Note that there is not information for customers that start with M (Merchants).\n",
        "9. newbalanceDest - new balance recipient after the transaction. Note that there is not information for customers that start with M (Merchants).\n",
        "10. isFraud - This is the transactions made by the fraudulent agents inside the simulation. In this specific dataset the fraudulent behavior of the agents aims to profit by taking control or customers accounts and try to empty the funds by transferring to another account and then cashing out of the system.\n",
        "11. isFlaggedFraud - The business model aims to control massive transfers from one account to another and flags illegal attempts. An illegal attempt in this dataset is an attempt to transfer more than 200.000 in a single transaction."
      ],
      "metadata": {
        "id": "qgkypEfPA6jq"
      }
    },
    {
      "cell_type": "markdown",
      "source": [
        "# 📋 Pivot table analysis\n",
        ">  Numbers is everything in transaction monitoring. Numbers decide whether it is a fraudulent activity or not. Let us look at the overall numbers using pivot function"
      ],
      "metadata": {
        "id": "G4HyZhlfA6jq"
      }
    },
    {
      "cell_type": "code",
      "source": [
        "#Pivot table\n",
        "paysim_pivot1=pd.pivot_table(paysim,index=[\"type\"],\n",
        "                               values=['amount','isFraud','isFlaggedFraud'],\n",
        "                               aggfunc=[np.sum,np.std], margins=True)\n",
        "\n",
        "#Adding color gradient\n",
        "cm = sns.light_palette(\"green\", as_cmap=True)\n",
        "paysim_pivot1.style.background_gradient(cmap=cm)"
      ],
      "metadata": {
        "execution": {
          "iopub.status.busy": "2021-08-14T16:45:00.232395Z",
          "iopub.execute_input": "2021-08-14T16:45:00.232701Z",
          "iopub.status.idle": "2021-08-14T16:45:04.273897Z",
          "shell.execute_reply.started": "2021-08-14T16:45:00.232663Z",
          "shell.execute_reply": "2021-08-14T16:45:04.272897Z"
        },
        "trusted": true,
        "id": "RdDQSkvEA6jq",
        "outputId": "29cf221e-2a95-482e-e804-b442b5eb997f"
      },
      "execution_count": null,
      "outputs": [
        {
          "execution_count": 50,
          "output_type": "execute_result",
          "data": {
            "text/plain": "<pandas.io.formats.style.Styler at 0x7f7445d01d50>",
            "text/html": "<style  type=\"text/css\" >\n#T_4b112_row0_col0{\n            background-color:  #bbdcbb;\n            color:  #000000;\n        }#T_4b112_row0_col1,#T_4b112_row0_col2,#T_4b112_row0_col4,#T_4b112_row0_col5,#T_4b112_row1_col1,#T_4b112_row1_col4,#T_4b112_row2_col0,#T_4b112_row2_col1,#T_4b112_row2_col2,#T_4b112_row2_col3,#T_4b112_row2_col4,#T_4b112_row2_col5,#T_4b112_row3_col1,#T_4b112_row3_col2,#T_4b112_row3_col3,#T_4b112_row3_col4,#T_4b112_row3_col5{\n            background-color:  #ebf3eb;\n            color:  #000000;\n        }#T_4b112_row0_col3{\n            background-color:  #ddecdd;\n            color:  #000000;\n        }#T_4b112_row1_col0{\n            background-color:  #9acb9a;\n            color:  #000000;\n        }#T_4b112_row1_col2{\n            background-color:  #75b975;\n            color:  #000000;\n        }#T_4b112_row1_col3{\n            background-color:  #d6e9d6;\n            color:  #000000;\n        }#T_4b112_row1_col5{\n            background-color:  #78bb78;\n            color:  #000000;\n        }#T_4b112_row3_col0{\n            background-color:  #e5f0e5;\n            color:  #000000;\n        }#T_4b112_row4_col0{\n            background-color:  #87c287;\n            color:  #000000;\n        }#T_4b112_row4_col1,#T_4b112_row4_col3,#T_4b112_row4_col4,#T_4b112_row4_col5,#T_4b112_row5_col0,#T_4b112_row5_col1,#T_4b112_row5_col2{\n            background-color:  #008000;\n            color:  #f1f1f1;\n        }#T_4b112_row4_col2{\n            background-color:  #76ba76;\n            color:  #000000;\n        }#T_4b112_row5_col3{\n            background-color:  #a0cea0;\n            color:  #000000;\n        }#T_4b112_row5_col4{\n            background-color:  #a6d2a6;\n            color:  #000000;\n        }#T_4b112_row5_col5{\n            background-color:  #8ac48a;\n            color:  #000000;\n        }</style><table id=\"T_4b112_\" ><thead>    <tr>        <th class=\"blank level0\" ></th>        <th class=\"col_heading level0 col0\" colspan=\"3\">sum</th>        <th class=\"col_heading level0 col3\" colspan=\"3\">std</th>    </tr>    <tr>        <th class=\"blank level1\" ></th>        <th class=\"col_heading level1 col0\" >amount</th>        <th class=\"col_heading level1 col1\" >isFlaggedFraud</th>        <th class=\"col_heading level1 col2\" >isFraud</th>        <th class=\"col_heading level1 col3\" >amount</th>        <th class=\"col_heading level1 col4\" >isFlaggedFraud</th>        <th class=\"col_heading level1 col5\" >isFraud</th>    </tr>    <tr>        <th class=\"index_name level0\" >type</th>        <th class=\"blank\" ></th>        <th class=\"blank\" ></th>        <th class=\"blank\" ></th>        <th class=\"blank\" ></th>        <th class=\"blank\" ></th>        <th class=\"blank\" ></th>    </tr></thead><tbody>\n                <tr>\n                        <th id=\"T_4b112_level0_row0\" class=\"row_heading level0 row0\" >CASH_IN</th>\n                        <td id=\"T_4b112_row0_col0\" class=\"data row0 col0\" >236367391912.458771</td>\n                        <td id=\"T_4b112_row0_col1\" class=\"data row0 col1\" >0</td>\n                        <td id=\"T_4b112_row0_col2\" class=\"data row0 col2\" >0</td>\n                        <td id=\"T_4b112_row0_col3\" class=\"data row0 col3\" >126508.255272</td>\n                        <td id=\"T_4b112_row0_col4\" class=\"data row0 col4\" >0.000000</td>\n                        <td id=\"T_4b112_row0_col5\" class=\"data row0 col5\" >0.000000</td>\n            </tr>\n            <tr>\n                        <th id=\"T_4b112_level0_row1\" class=\"row_heading level0 row1\" >CASH_OUT</th>\n                        <td id=\"T_4b112_row1_col0\" class=\"data row1 col0\" >394412995224.487915</td>\n                        <td id=\"T_4b112_row1_col1\" class=\"data row1 col1\" >0</td>\n                        <td id=\"T_4b112_row1_col2\" class=\"data row1 col2\" >4116</td>\n                        <td id=\"T_4b112_row1_col3\" class=\"data row1 col3\" >175329.744483</td>\n                        <td id=\"T_4b112_row1_col4\" class=\"data row1 col4\" >0.000000</td>\n                        <td id=\"T_4b112_row1_col5\" class=\"data row1 col5\" >0.042851</td>\n            </tr>\n            <tr>\n                        <th id=\"T_4b112_level0_row2\" class=\"row_heading level0 row2\" >DEBIT</th>\n                        <td id=\"T_4b112_row2_col0\" class=\"data row2 col0\" >227199221.279999</td>\n                        <td id=\"T_4b112_row2_col1\" class=\"data row2 col1\" >0</td>\n                        <td id=\"T_4b112_row2_col2\" class=\"data row2 col2\" >0</td>\n                        <td id=\"T_4b112_row2_col3\" class=\"data row2 col3\" >13318.535518</td>\n                        <td id=\"T_4b112_row2_col4\" class=\"data row2 col4\" >0.000000</td>\n                        <td id=\"T_4b112_row2_col5\" class=\"data row2 col5\" >0.000000</td>\n            </tr>\n            <tr>\n                        <th id=\"T_4b112_level0_row3\" class=\"row_heading level0 row3\" >PAYMENT</th>\n                        <td id=\"T_4b112_row3_col0\" class=\"data row3 col0\" >28093371138.369801</td>\n                        <td id=\"T_4b112_row3_col1\" class=\"data row3 col1\" >0</td>\n                        <td id=\"T_4b112_row3_col2\" class=\"data row3 col2\" >0</td>\n                        <td id=\"T_4b112_row3_col3\" class=\"data row3 col3\" >12556.450186</td>\n                        <td id=\"T_4b112_row3_col4\" class=\"data row3 col4\" >0.000000</td>\n                        <td id=\"T_4b112_row3_col5\" class=\"data row3 col5\" >0.000000</td>\n            </tr>\n            <tr>\n                        <th id=\"T_4b112_level0_row4\" class=\"row_heading level0 row4\" >TRANSFER</th>\n                        <td id=\"T_4b112_row4_col0\" class=\"data row4 col0\" >485291987263.161987</td>\n                        <td id=\"T_4b112_row4_col1\" class=\"data row4 col1\" >16</td>\n                        <td id=\"T_4b112_row4_col2\" class=\"data row4 col2\" >4097</td>\n                        <td id=\"T_4b112_row4_col3\" class=\"data row4 col3\" >1879573.528908</td>\n                        <td id=\"T_4b112_row4_col4\" class=\"data row4 col4\" >0.005479</td>\n                        <td id=\"T_4b112_row4_col5\" class=\"data row4 col5\" >0.087344</td>\n            </tr>\n            <tr>\n                        <th id=\"T_4b112_level0_row5\" class=\"row_heading level0 row5\" >All</th>\n                        <td id=\"T_4b112_row5_col0\" class=\"data row5 col0\" >1144392944759.770020</td>\n                        <td id=\"T_4b112_row5_col1\" class=\"data row5 col1\" >16</td>\n                        <td id=\"T_4b112_row5_col2\" class=\"data row5 col2\" >8213</td>\n                        <td id=\"T_4b112_row5_col3\" class=\"data row5 col3\" >603858.184009</td>\n                        <td id=\"T_4b112_row5_col4\" class=\"data row5 col4\" >0.001586</td>\n                        <td id=\"T_4b112_row5_col5\" class=\"data row5 col5\" >0.035905</td>\n            </tr>\n    </tbody></table>"
          },
          "metadata": {}
        }
      ]
    },
    {
      "cell_type": "code",
      "source": [
        "#Pivot table\n",
        "paysim_pivot2=pd.pivot_table(paysim,index=[\"type\"],\n",
        "                               values=['amount','oldbalanceOrg','newbalanceOrig'],\n",
        "                               aggfunc=[np.sum], margins=True)\n",
        "\n",
        "#Adding style\n",
        "paysim_pivot2.style\\\n",
        "    .format('{:.2f}')\\\n",
        "    .bar(align='mid',color=['darkred'])\\\n",
        "    .set_properties(padding='5px',border='3px solid white',width='200px')"
      ],
      "metadata": {
        "execution": {
          "iopub.status.busy": "2021-08-14T16:45:04.275175Z",
          "iopub.execute_input": "2021-08-14T16:45:04.275459Z",
          "iopub.status.idle": "2021-08-14T16:45:06.153492Z",
          "shell.execute_reply.started": "2021-08-14T16:45:04.275430Z",
          "shell.execute_reply": "2021-08-14T16:45:06.152550Z"
        },
        "trusted": true,
        "id": "2_Rul_FoA6jr",
        "outputId": "9a4a59c5-b6b7-42f6-e431-cb5bd3c67a4f"
      },
      "execution_count": null,
      "outputs": [
        {
          "execution_count": 51,
          "output_type": "execute_result",
          "data": {
            "text/plain": "<pandas.io.formats.style.Styler at 0x7f736b7fb050>",
            "text/html": "<style  type=\"text/css\" >\n#T_cfc16_row0_col0{\n            width:  10em;\n             height:  80%;\n            background:  linear-gradient(90deg,darkred 20.7%, transparent 20.7%);\n            padding:  5px;\n            border:  3px solid white;\n            width:  200px;\n        }#T_cfc16_row0_col1{\n            width:  10em;\n             height:  80%;\n            background:  linear-gradient(90deg,darkred 96.7%, transparent 96.7%);\n            padding:  5px;\n            border:  3px solid white;\n            width:  200px;\n        }#T_cfc16_row0_col2{\n            width:  10em;\n             height:  80%;\n            background:  linear-gradient(90deg,darkred 94.7%, transparent 94.7%);\n            padding:  5px;\n            border:  3px solid white;\n            width:  200px;\n        }#T_cfc16_row1_col0{\n            width:  10em;\n             height:  80%;\n            background:  linear-gradient(90deg,darkred 34.5%, transparent 34.5%);\n            padding:  5px;\n            border:  3px solid white;\n            width:  200px;\n        }#T_cfc16_row1_col1{\n            width:  10em;\n             height:  80%;\n            background:  linear-gradient(90deg,darkred 0.7%, transparent 0.7%);\n            padding:  5px;\n            border:  3px solid white;\n            width:  200px;\n        }#T_cfc16_row1_col2{\n            width:  10em;\n             height:  80%;\n            background:  linear-gradient(90deg,darkred 1.9%, transparent 1.9%);\n            padding:  5px;\n            border:  3px solid white;\n            width:  200px;\n        }#T_cfc16_row2_col0,#T_cfc16_row2_col1{\n            width:  10em;\n             height:  80%;\n            background:  linear-gradient(90deg,darkred 0.0%, transparent 0.0%);\n            padding:  5px;\n            border:  3px solid white;\n            width:  200px;\n        }#T_cfc16_row2_col2,#T_cfc16_row4_col1{\n            width:  10em;\n             height:  80%;\n            background:  linear-gradient(90deg,darkred 0.1%, transparent 0.1%);\n            padding:  5px;\n            border:  3px solid white;\n            width:  200px;\n        }#T_cfc16_row3_col0{\n            width:  10em;\n             height:  80%;\n            background:  linear-gradient(90deg,darkred 2.5%, transparent 2.5%);\n            padding:  5px;\n            border:  3px solid white;\n            width:  200px;\n        }#T_cfc16_row3_col1{\n            width:  10em;\n             height:  80%;\n            background:  linear-gradient(90deg,darkred 2.4%, transparent 2.4%);\n            padding:  5px;\n            border:  3px solid white;\n            width:  200px;\n        }#T_cfc16_row3_col2{\n            width:  10em;\n             height:  80%;\n            background:  linear-gradient(90deg,darkred 2.8%, transparent 2.8%);\n            padding:  5px;\n            border:  3px solid white;\n            width:  200px;\n        }#T_cfc16_row4_col0{\n            width:  10em;\n             height:  80%;\n            background:  linear-gradient(90deg,darkred 42.4%, transparent 42.4%);\n            padding:  5px;\n            border:  3px solid white;\n            width:  200px;\n        }#T_cfc16_row4_col2{\n            width:  10em;\n             height:  80%;\n            background:  linear-gradient(90deg,darkred 0.5%, transparent 0.5%);\n            padding:  5px;\n            border:  3px solid white;\n            width:  200px;\n        }#T_cfc16_row5_col0,#T_cfc16_row5_col1,#T_cfc16_row5_col2{\n            width:  10em;\n             height:  80%;\n            background:  linear-gradient(90deg,darkred 100.0%, transparent 100.0%);\n            padding:  5px;\n            border:  3px solid white;\n            width:  200px;\n        }</style><table id=\"T_cfc16_\" ><thead>    <tr>        <th class=\"blank level0\" ></th>        <th class=\"col_heading level0 col0\" colspan=\"3\">sum</th>    </tr>    <tr>        <th class=\"blank level1\" ></th>        <th class=\"col_heading level1 col0\" >amount</th>        <th class=\"col_heading level1 col1\" >newbalanceOrig</th>        <th class=\"col_heading level1 col2\" >oldbalanceOrg</th>    </tr>    <tr>        <th class=\"index_name level0\" >type</th>        <th class=\"blank\" ></th>        <th class=\"blank\" ></th>        <th class=\"blank\" ></th>    </tr></thead><tbody>\n                <tr>\n                        <th id=\"T_cfc16_level0_row0\" class=\"row_heading level0 row0\" >CASH_IN</th>\n                        <td id=\"T_cfc16_row0_col0\" class=\"data row0 col0\" >236367391912.46</td>\n                        <td id=\"T_cfc16_row0_col1\" class=\"data row0 col1\" >5260438481752.40</td>\n                        <td id=\"T_cfc16_row0_col2\" class=\"data row0 col2\" >5024078139747.30</td>\n            </tr>\n            <tr>\n                        <th id=\"T_cfc16_level0_row1\" class=\"row_heading level0 row1\" >CASH_OUT</th>\n                        <td id=\"T_cfc16_row1_col0\" class=\"data row1 col0\" >394412995224.49</td>\n                        <td id=\"T_cfc16_row1_col1\" class=\"data row1 col1\" >39098506249.34</td>\n                        <td id=\"T_cfc16_row1_col2\" class=\"data row1 col2\" >102978263227.81</td>\n            </tr>\n            <tr>\n                        <th id=\"T_cfc16_level0_row2\" class=\"row_heading level0 row2\" >DEBIT</th>\n                        <td id=\"T_cfc16_row2_col0\" class=\"data row2 col0\" >227199221.28</td>\n                        <td id=\"T_cfc16_row2_col1\" class=\"data row2 col1\" >2699777564.12</td>\n                        <td id=\"T_cfc16_row2_col2\" class=\"data row2 col2\" >2844196471.80</td>\n            </tr>\n            <tr>\n                        <th id=\"T_cfc16_level0_row3\" class=\"row_heading level0 row3\" >PAYMENT</th>\n                        <td id=\"T_cfc16_row3_col0\" class=\"data row3 col0\" >28093371138.37</td>\n                        <td id=\"T_cfc16_row3_col1\" class=\"data row3 col1\" >133043913105.10</td>\n                        <td id=\"T_cfc16_row3_col2\" class=\"data row3 col2\" >146768163438.79</td>\n            </tr>\n            <tr>\n                        <th id=\"T_cfc16_level0_row4\" class=\"row_heading level0 row4\" >TRANSFER</th>\n                        <td id=\"T_cfc16_row4_col0\" class=\"data row4 col0\" >485291987263.16</td>\n                        <td id=\"T_cfc16_row4_col1\" class=\"data row4 col1\" >5482651300.55</td>\n                        <td id=\"T_cfc16_row4_col2\" class=\"data row4 col2\" >29012552760.76</td>\n            </tr>\n            <tr>\n                        <th id=\"T_cfc16_level0_row5\" class=\"row_heading level0 row5\" >All</th>\n                        <td id=\"T_cfc16_row5_col0\" class=\"data row5 col0\" >1144392944759.77</td>\n                        <td id=\"T_cfc16_row5_col1\" class=\"data row5 col1\" >5440763329971.49</td>\n                        <td id=\"T_cfc16_row5_col2\" class=\"data row5 col2\" >5305681315646.41</td>\n            </tr>\n    </tbody></table>"
          },
          "metadata": {}
        }
      ]
    },
    {
      "cell_type": "code",
      "source": [
        "#Pivot table\n",
        "paysim_pivot3=pd.pivot_table(paysim,index=[\"type\"],\n",
        "                               values=['amount','oldbalanceDest','newbalanceDest'],\n",
        "                               aggfunc=[np.sum], margins=True)\n",
        "\n",
        "#Adding style\n",
        "paysim_pivot3.style\\\n",
        "    .format('{:.2f}')\\\n",
        "    .bar(align='mid',color=['darkblue'])\\\n",
        "    .set_properties(padding='5px',border='3px solid white',width='200px')"
      ],
      "metadata": {
        "execution": {
          "iopub.status.busy": "2021-08-14T16:45:06.156764Z",
          "iopub.execute_input": "2021-08-14T16:45:06.157075Z",
          "iopub.status.idle": "2021-08-14T16:45:07.997604Z",
          "shell.execute_reply.started": "2021-08-14T16:45:06.157030Z",
          "shell.execute_reply": "2021-08-14T16:45:07.996507Z"
        },
        "trusted": true,
        "id": "NfpFjRJTA6jr",
        "outputId": "b0435a48-af97-4981-9e47-08fa0931a9c3"
      },
      "execution_count": null,
      "outputs": [
        {
          "execution_count": 52,
          "output_type": "execute_result",
          "data": {
            "text/plain": "<pandas.io.formats.style.Styler at 0x7f736b75b390>",
            "text/html": "<style  type=\"text/css\" >\n#T_a5aca_row0_col0{\n            width:  10em;\n             height:  80%;\n            background:  linear-gradient(90deg,darkblue 20.7%, transparent 20.7%);\n            padding:  5px;\n            border:  3px solid white;\n            width:  200px;\n        }#T_a5aca_row0_col1{\n            width:  10em;\n             height:  80%;\n            background:  linear-gradient(90deg,darkblue 26.3%, transparent 26.3%);\n            padding:  5px;\n            border:  3px solid white;\n            width:  200px;\n        }#T_a5aca_row0_col2{\n            width:  10em;\n             height:  80%;\n            background:  linear-gradient(90deg,darkblue 31.7%, transparent 31.7%);\n            padding:  5px;\n            border:  3px solid white;\n            width:  200px;\n        }#T_a5aca_row1_col0{\n            width:  10em;\n             height:  80%;\n            background:  linear-gradient(90deg,darkblue 34.5%, transparent 34.5%);\n            padding:  5px;\n            border:  3px solid white;\n            width:  200px;\n        }#T_a5aca_row1_col1{\n            width:  10em;\n             height:  80%;\n            background:  linear-gradient(90deg,darkblue 48.6%, transparent 48.6%);\n            padding:  5px;\n            border:  3px solid white;\n            width:  200px;\n        }#T_a5aca_row1_col2{\n            width:  10em;\n             height:  80%;\n            background:  linear-gradient(90deg,darkblue 47.9%, transparent 47.9%);\n            padding:  5px;\n            border:  3px solid white;\n            width:  200px;\n        }#T_a5aca_row2_col0{\n            width:  10em;\n             height:  80%;\n            background:  linear-gradient(90deg,darkblue 0.0%, transparent 0.0%);\n            padding:  5px;\n            border:  3px solid white;\n            width:  200px;\n        }#T_a5aca_row2_col1{\n            width:  10em;\n             height:  80%;\n            background:  linear-gradient(90deg,darkblue 0.8%, transparent 0.8%);\n            padding:  5px;\n            border:  3px solid white;\n            width:  200px;\n        }#T_a5aca_row2_col2{\n            width:  10em;\n             height:  80%;\n            background:  linear-gradient(90deg,darkblue 0.9%, transparent 0.9%);\n            padding:  5px;\n            border:  3px solid white;\n            width:  200px;\n        }#T_a5aca_row3_col0{\n            width:  10em;\n             height:  80%;\n            background:  linear-gradient(90deg,darkblue 2.5%, transparent 2.5%);\n            padding:  5px;\n            border:  3px solid white;\n            width:  200px;\n        }#T_a5aca_row3_col1,#T_a5aca_row3_col2{\n            width:  10em;\n             height:  80%;\n            padding:  5px;\n            border:  3px solid white;\n            width:  200px;\n        }#T_a5aca_row4_col0{\n            width:  10em;\n             height:  80%;\n            background:  linear-gradient(90deg,darkblue 42.4%, transparent 42.4%);\n            padding:  5px;\n            border:  3px solid white;\n            width:  200px;\n        }#T_a5aca_row4_col1{\n            width:  10em;\n             height:  80%;\n            background:  linear-gradient(90deg,darkblue 24.3%, transparent 24.3%);\n            padding:  5px;\n            border:  3px solid white;\n            width:  200px;\n        }#T_a5aca_row4_col2{\n            width:  10em;\n             height:  80%;\n            background:  linear-gradient(90deg,darkblue 19.5%, transparent 19.5%);\n            padding:  5px;\n            border:  3px solid white;\n            width:  200px;\n        }#T_a5aca_row5_col0,#T_a5aca_row5_col1,#T_a5aca_row5_col2{\n            width:  10em;\n             height:  80%;\n            background:  linear-gradient(90deg,darkblue 100.0%, transparent 100.0%);\n            padding:  5px;\n            border:  3px solid white;\n            width:  200px;\n        }</style><table id=\"T_a5aca_\" ><thead>    <tr>        <th class=\"blank level0\" ></th>        <th class=\"col_heading level0 col0\" colspan=\"3\">sum</th>    </tr>    <tr>        <th class=\"blank level1\" ></th>        <th class=\"col_heading level1 col0\" >amount</th>        <th class=\"col_heading level1 col1\" >newbalanceDest</th>        <th class=\"col_heading level1 col2\" >oldbalanceDest</th>    </tr>    <tr>        <th class=\"index_name level0\" >type</th>        <th class=\"blank\" ></th>        <th class=\"blank\" ></th>        <th class=\"blank\" ></th>    </tr></thead><tbody>\n                <tr>\n                        <th id=\"T_a5aca_level0_row0\" class=\"row_heading level0 row0\" >CASH_IN</th>\n                        <td id=\"T_a5aca_row0_col0\" class=\"data row0 col0\" >236367391912.46</td>\n                        <td id=\"T_a5aca_row0_col1\" class=\"data row0 col1\" >2052897091879.15</td>\n                        <td id=\"T_a5aca_row0_col2\" class=\"data row0 col2\" >2221949365238.98</td>\n            </tr>\n            <tr>\n                        <th id=\"T_a5aca_level0_row1\" class=\"row_heading level0 row1\" >CASH_OUT</th>\n                        <td id=\"T_a5aca_row1_col0\" class=\"data row1 col0\" >394412995224.49</td>\n                        <td id=\"T_a5aca_row1_col1\" class=\"data row1 col1\" >3784342078061.15</td>\n                        <td id=\"T_a5aca_row1_col2\" class=\"data row1 col2\" >3351233273577.78</td>\n            </tr>\n            <tr>\n                        <th id=\"T_a5aca_level0_row2\" class=\"row_heading level0 row2\" >DEBIT</th>\n                        <td id=\"T_a5aca_row2_col0\" class=\"data row2 col0\" >227199221.28</td>\n                        <td id=\"T_a5aca_row2_col1\" class=\"data row2 col1\" >62686759687.09</td>\n                        <td id=\"T_a5aca_row2_col2\" class=\"data row2 col2\" >61863601275.22</td>\n            </tr>\n            <tr>\n                        <th id=\"T_a5aca_level0_row3\" class=\"row_heading level0 row3\" >PAYMENT</th>\n                        <td id=\"T_a5aca_row3_col0\" class=\"data row3 col0\" >28093371138.37</td>\n                        <td id=\"T_a5aca_row3_col1\" class=\"data row3 col1\" >0.00</td>\n                        <td id=\"T_a5aca_row3_col2\" class=\"data row3 col2\" >0.00</td>\n            </tr>\n            <tr>\n                        <th id=\"T_a5aca_level0_row4\" class=\"row_heading level0 row4\" >TRANSFER</th>\n                        <td id=\"T_a5aca_row4_col0\" class=\"data row4 col0\" >485291987263.16</td>\n                        <td id=\"T_a5aca_row4_col1\" class=\"data row4 col1\" >1894260653500.26</td>\n                        <td id=\"T_a5aca_row4_col2\" class=\"data row4 col2\" >1368300197339.44</td>\n            </tr>\n            <tr>\n                        <th id=\"T_a5aca_level0_row5\" class=\"row_heading level0 row5\" >All</th>\n                        <td id=\"T_a5aca_row5_col0\" class=\"data row5 col0\" >1144392944759.77</td>\n                        <td id=\"T_a5aca_row5_col1\" class=\"data row5 col1\" >7794186583127.56</td>\n                        <td id=\"T_a5aca_row5_col2\" class=\"data row5 col2\" >7003346437431.25</td>\n            </tr>\n    </tbody></table>"
          },
          "metadata": {}
        }
      ]
    },
    {
      "cell_type": "markdown",
      "source": [
        "## 📊 Distribution of Amount\n",
        ">  It is important to understand the distribution of our data, since it can play a major role in model building and also in understanding our data. Going forward we will be using only 50k rows as it takes a lot of time to process all the records for viz and model building.\n",
        "> Here we check for the distribution of amount transacted using the application"
      ],
      "metadata": {
        "id": "qhiTm-8QA6jr"
      }
    },
    {
      "cell_type": "code",
      "source": [
        "#Reading the first 50000 rows\n",
        "paysim=pd.read_csv('/content/PS_20174392719_1491204439457_log.csv',nrows=50000)\n",
        "\n",
        "#Distribution of Amount\n",
        "fig = px.box(paysim, y=\"amount\")\n",
        "fig.show()"
      ],
      "metadata": {
        "execution": {
          "iopub.status.busy": "2021-08-14T16:45:07.998837Z",
          "iopub.execute_input": "2021-08-14T16:45:07.999113Z",
          "iopub.status.idle": "2021-08-14T16:45:08.590453Z",
          "shell.execute_reply.started": "2021-08-14T16:45:07.999085Z",
          "shell.execute_reply": "2021-08-14T16:45:08.589505Z"
        },
        "trusted": true,
        "id": "tnWqQk3qA6jr"
      },
      "execution_count": null,
      "outputs": []
    },
    {
      "cell_type": "markdown",
      "source": [
        "# 🔧 Feature engineering\n",
        ">  Time to get our hands dirty with feature engineering. With the available information it is hard to train the model and get better results. Hence we move onto create new features by altering the existing features. In this we create three functions which creates a highly relevant feature for the domain\n",
        ">\n",
        "> 1. **Difference in balance:** It is an universal truth that the amount debited from senders account gets credited into the receivers account without any deviation in cents. But what if there is a deviation incase of the amount debited and credited. Some could be due to the charges levied by the service providers, yet we need to flag such unusual instances\n",
        "> 2. **Surge indicator:** Also we have to trigger flag when large amount are involved in the transaction. From the distribution of amount we understood that we have a lot of outliers with high amount in transactions. Hence we consider the 75th percentile(450k) as our threshold and amount which is greater than 450k will be triggered as a flag\n",
        "> 3. **Frequency indicator:** Here we flag the user and not the transaction. When there is a receiver who receives money from a lot of people, it could be a trigger as it can be for some illegal games of chance or luck. Hence it is flagged when there is a receiver who receives money for more than 20 times.\n",
        ">4. **Merchant indicator:** The customer ids in receiver starts with 'M' which means that they are merchants and they obviously will have a lot of receiving transactions. So we also flag whenever there is a merchant receiver"
      ],
      "metadata": {
        "id": "ddhyAw05A6js"
      }
    },
    {
      "cell_type": "code",
      "source": [
        "#Tallying the balance\n",
        "def balance_diff(data):\n",
        "    '''balance_diff checks whether the money debited from sender has exactly credited to the receiver\n",
        "       then it creates a new column which indicates 1 when there is a deviation else 0'''\n",
        "    #Sender's balance\n",
        "    orig_change=data['newbalanceOrig']-data['oldbalanceOrg']\n",
        "    orig_change=orig_change.astype(int)\n",
        "    for i in orig_change:\n",
        "        if i<0:\n",
        "            data['orig_txn_diff']=round(data['amount']+orig_change,2)\n",
        "        else:\n",
        "            data['orig_txn_diff']=round(data['amount']-orig_change,2)\n",
        "    data['orig_txn_diff']=data['orig_txn_diff'].astype(int)\n",
        "    data['orig_diff'] = [1 if n !=0 else 0 for n in data['orig_txn_diff']]\n",
        "\n",
        "    #Receiver's balance\n",
        "    dest_change=data['newbalanceDest']-data['oldbalanceDest']\n",
        "    dest_change=dest_change.astype(int)\n",
        "    for i in dest_change:\n",
        "        if i<0:\n",
        "            data['dest_txn_diff']=round(data['amount']+dest_change,2)\n",
        "        else:\n",
        "            data['dest_txn_diff']=round(data['amount']-dest_change,2)\n",
        "    data['dest_txn_diff']=data['dest_txn_diff'].astype(int)\n",
        "    data['dest_diff'] = [1 if n !=0 else 0 for n in data['dest_txn_diff']]\n",
        "\n",
        "    data.drop(['orig_txn_diff','dest_txn_diff'],axis=1,inplace = True)\n",
        "\n",
        "#Surge indicator\n",
        "def surge_indicator(data):\n",
        "    '''Creates a new column which has 1 if the transaction amount is greater than the threshold\n",
        "    else it will be 0'''\n",
        "    data['surge']=[1 if n>450000 else 0 for n in data['amount']]\n",
        "\n",
        "#Frequency indicator\n",
        "def frequency_receiver(data):\n",
        "    '''Creates a new column which has 1 if the receiver receives money from many individuals\n",
        "    else it will be 0'''\n",
        "    data['freq_Dest']=data['nameDest'].map(data['nameDest'].value_counts())\n",
        "    data['freq_dest']=[1 if n>20 else 0 for n in data['freq_Dest']]\n",
        "\n",
        "    data.drop(['freq_Dest'],axis=1,inplace = True)\n",
        "\n",
        "#Tracking the receiver as merchant or not\n",
        "def merchant(data):\n",
        "    '''We also have customer ids which starts with M in Receiver name, it indicates merchant\n",
        "    this function will flag if there is a merchant in receiver end '''\n",
        "    values = ['M']\n",
        "    conditions = list(map(data['nameDest'].str.contains, values))\n",
        "    data['merchant'] = np.select(conditions, '1', '0')"
      ],
      "metadata": {
        "execution": {
          "iopub.status.busy": "2021-08-14T16:45:08.591951Z",
          "iopub.execute_input": "2021-08-14T16:45:08.592336Z",
          "iopub.status.idle": "2021-08-14T16:45:08.611073Z",
          "shell.execute_reply.started": "2021-08-14T16:45:08.592298Z",
          "shell.execute_reply": "2021-08-14T16:45:08.609941Z"
        },
        "trusted": true,
        "id": "h3IWdxELA6js"
      },
      "execution_count": null,
      "outputs": []
    },
    {
      "cell_type": "code",
      "source": [
        "#Applying balance_diff function\n",
        "balance_diff(paysim)\n",
        "\n",
        "paysim['orig_diff'].value_counts()\n",
        "paysim['dest_diff'].value_counts()"
      ],
      "metadata": {
        "execution": {
          "iopub.status.busy": "2021-08-14T16:45:08.614291Z",
          "iopub.execute_input": "2021-08-14T16:45:08.614704Z",
          "iopub.status.idle": "2021-08-14T16:46:43.177378Z",
          "shell.execute_reply.started": "2021-08-14T16:45:08.614649Z",
          "shell.execute_reply": "2021-08-14T16:46:43.176401Z"
        },
        "trusted": true,
        "id": "ybCQtKtfA6js",
        "outputId": "fb72192a-6dd0-4684-d544-f80d59b14d2f"
      },
      "execution_count": null,
      "outputs": [
        {
          "execution_count": 55,
          "output_type": "execute_result",
          "data": {
            "text/plain": "1    44994\n0     5006\nName: dest_diff, dtype: int64"
          },
          "metadata": {}
        }
      ]
    },
    {
      "cell_type": "code",
      "source": [
        "#Applying surge_indicator function\n",
        "surge_indicator(paysim)\n",
        "paysim['surge'].value_counts()"
      ],
      "metadata": {
        "execution": {
          "iopub.status.busy": "2021-08-14T16:46:43.179502Z",
          "iopub.execute_input": "2021-08-14T16:46:43.179934Z",
          "iopub.status.idle": "2021-08-14T16:46:43.224612Z",
          "shell.execute_reply.started": "2021-08-14T16:46:43.179889Z",
          "shell.execute_reply": "2021-08-14T16:46:43.223749Z"
        },
        "trusted": true,
        "id": "-GYf6GirA6js",
        "outputId": "c5cf3aff-02dc-48ec-f440-1399b4a8fc56"
      },
      "execution_count": null,
      "outputs": [
        {
          "execution_count": 56,
          "output_type": "execute_result",
          "data": {
            "text/plain": "0    46392\n1     3608\nName: surge, dtype: int64"
          },
          "metadata": {}
        }
      ]
    },
    {
      "cell_type": "code",
      "source": [
        "#Applying frequency_receiver function\n",
        "frequency_receiver(paysim)\n",
        "paysim['freq_dest'].value_counts()"
      ],
      "metadata": {
        "execution": {
          "iopub.status.busy": "2021-08-14T16:46:43.225916Z",
          "iopub.execute_input": "2021-08-14T16:46:43.226211Z",
          "iopub.status.idle": "2021-08-14T16:46:43.310851Z",
          "shell.execute_reply.started": "2021-08-14T16:46:43.226184Z",
          "shell.execute_reply": "2021-08-14T16:46:43.309916Z"
        },
        "trusted": true,
        "id": "kelJ6YQpA6js",
        "outputId": "59418d69-14f7-469e-9406-a2d09b6937b3"
      },
      "execution_count": null,
      "outputs": [
        {
          "execution_count": 57,
          "output_type": "execute_result",
          "data": {
            "text/plain": "0    46295\n1     3705\nName: freq_dest, dtype: int64"
          },
          "metadata": {}
        }
      ]
    },
    {
      "cell_type": "markdown",
      "source": [
        "# ⚙️ Pre-processing data\n",
        ">  Before moving to build a machine learning model, it is mandatory to pre-process the data so that the model trains without any error and can learn better to provide better results\n",
        "\n",
        "## 1. Balancing the target\n",
        "> From the pie chart below we can clearly see that the target label is heavily imbalance as we have only 0.2% of fraudulent data which is in-sufficient for machine to learn and flag when fraud transactions happen."
      ],
      "metadata": {
        "id": "QK7G1KsPA6js"
      }
    },
    {
      "cell_type": "code",
      "source": [
        "#Creating a copy\n",
        "paysim_1=paysim.copy()\n",
        "\n",
        "#Checking for balance in target\n",
        "fig = go.Figure(data=[go.Pie(labels=['Not Fraud','Fraud'], values=paysim_1['isFraud'].value_counts())])\n",
        "fig.show()"
      ],
      "metadata": {
        "execution": {
          "iopub.status.busy": "2021-08-14T16:46:43.312252Z",
          "iopub.execute_input": "2021-08-14T16:46:43.312636Z",
          "iopub.status.idle": "2021-08-14T16:46:43.331816Z",
          "shell.execute_reply.started": "2021-08-14T16:46:43.312595Z",
          "shell.execute_reply": "2021-08-14T16:46:43.330853Z"
        },
        "trusted": true,
        "id": "W6BMoN0PA6js"
      },
      "execution_count": null,
      "outputs": []
    },
    {
      "cell_type": "code",
      "source": [
        "#Getting the max size\n",
        "max_size = paysim_1['isFraud'].value_counts().max()\n",
        "\n",
        "#Balancing the target label\n",
        "lst = [paysim_1]\n",
        "for class_index, group in paysim_1.groupby('isFraud'):\n",
        "    lst.append(group.sample(max_size-len(group), replace=True))\n",
        "paysim_1 = pd.concat(lst)"
      ],
      "metadata": {
        "execution": {
          "iopub.status.busy": "2021-08-14T16:46:43.333413Z",
          "iopub.execute_input": "2021-08-14T16:46:43.333843Z",
          "iopub.status.idle": "2021-08-14T16:46:43.371313Z",
          "shell.execute_reply.started": "2021-08-14T16:46:43.333800Z",
          "shell.execute_reply": "2021-08-14T16:46:43.370365Z"
        },
        "trusted": true,
        "id": "HrlNFckuA6jt"
      },
      "execution_count": null,
      "outputs": []
    },
    {
      "cell_type": "code",
      "source": [
        "#Checking the balanced target\n",
        "fig = go.Figure(data=[go.Pie(labels=['Not Fraud','Fraud'], values=paysim_1['isFraud'].value_counts())])\n",
        "fig.show()"
      ],
      "metadata": {
        "execution": {
          "iopub.status.busy": "2021-08-14T16:46:43.372874Z",
          "iopub.execute_input": "2021-08-14T16:46:43.373280Z",
          "iopub.status.idle": "2021-08-14T16:46:43.391729Z",
          "shell.execute_reply.started": "2021-08-14T16:46:43.373238Z",
          "shell.execute_reply": "2021-08-14T16:46:43.390739Z"
        },
        "trusted": true,
        "id": "XNE8qfGVA6jt"
      },
      "execution_count": null,
      "outputs": []
    },
    {
      "cell_type": "markdown",
      "source": [
        "## 2. One hot encoding\n",
        "> One of the most important feature we have is type which is categorical in type. Since it doesnt have any ordinal nature and since the classes are less, we prefer applying one hot encoding."
      ],
      "metadata": {
        "id": "j5A9xWs1A6jt"
      }
    },
    {
      "cell_type": "code",
      "source": [
        "#One hot encoding\n",
        "paysim_1=pd.concat([paysim_1,pd.get_dummies(paysim_1['type'], prefix='type_')],axis=1)\n",
        "paysim_1.drop(['type'],axis=1,inplace = True)\n",
        "\n",
        "paysim_1.head()"
      ],
      "metadata": {
        "execution": {
          "iopub.status.busy": "2021-08-14T16:46:43.393014Z",
          "iopub.execute_input": "2021-08-14T16:46:43.393432Z",
          "iopub.status.idle": "2021-08-14T16:46:43.461484Z",
          "shell.execute_reply.started": "2021-08-14T16:46:43.393390Z",
          "shell.execute_reply": "2021-08-14T16:46:43.460565Z"
        },
        "trusted": true,
        "id": "Q-5y9WmzA6jt",
        "outputId": "6a92a39b-25c9-488d-ab2a-bad5f95f060e"
      },
      "execution_count": null,
      "outputs": [
        {
          "execution_count": 61,
          "output_type": "execute_result",
          "data": {
            "text/plain": "   step    amount     nameOrig  oldbalanceOrg  newbalanceOrig     nameDest  \\\n0     1   9839.64  C1231006815       170136.0       160296.36  M1979787155   \n1     1   1864.28  C1666544295        21249.0        19384.72  M2044282225   \n2     1    181.00  C1305486145          181.0            0.00   C553264065   \n3     1    181.00   C840083671          181.0            0.00    C38997010   \n4     1  11668.14  C2048537720        41554.0        29885.86  M1230701703   \n\n   oldbalanceDest  newbalanceDest  isFraud  isFlaggedFraud  orig_diff  \\\n0             0.0             0.0        0               0          0   \n1             0.0             0.0        0               0          0   \n2             0.0             0.0        1               0          0   \n3         21182.0             0.0        1               0          0   \n4             0.0             0.0        0               0          0   \n\n   dest_diff  surge  freq_dest  type__CASH_IN  type__CASH_OUT  type__DEBIT  \\\n0          1      0          0              0               0            0   \n1          1      0          0              0               0            0   \n2          1      0          0              0               0            0   \n3          1      0          0              0               1            0   \n4          1      0          0              0               0            0   \n\n   type__PAYMENT  type__TRANSFER  \n0              1               0  \n1              1               0  \n2              0               1  \n3              0               0  \n4              1               0  ",
            "text/html": "<div>\n<style scoped>\n    .dataframe tbody tr th:only-of-type {\n        vertical-align: middle;\n    }\n\n    .dataframe tbody tr th {\n        vertical-align: top;\n    }\n\n    .dataframe thead th {\n        text-align: right;\n    }\n</style>\n<table border=\"1\" class=\"dataframe\">\n  <thead>\n    <tr style=\"text-align: right;\">\n      <th></th>\n      <th>step</th>\n      <th>amount</th>\n      <th>nameOrig</th>\n      <th>oldbalanceOrg</th>\n      <th>newbalanceOrig</th>\n      <th>nameDest</th>\n      <th>oldbalanceDest</th>\n      <th>newbalanceDest</th>\n      <th>isFraud</th>\n      <th>isFlaggedFraud</th>\n      <th>orig_diff</th>\n      <th>dest_diff</th>\n      <th>surge</th>\n      <th>freq_dest</th>\n      <th>type__CASH_IN</th>\n      <th>type__CASH_OUT</th>\n      <th>type__DEBIT</th>\n      <th>type__PAYMENT</th>\n      <th>type__TRANSFER</th>\n    </tr>\n  </thead>\n  <tbody>\n    <tr>\n      <th>0</th>\n      <td>1</td>\n      <td>9839.64</td>\n      <td>C1231006815</td>\n      <td>170136.0</td>\n      <td>160296.36</td>\n      <td>M1979787155</td>\n      <td>0.0</td>\n      <td>0.0</td>\n      <td>0</td>\n      <td>0</td>\n      <td>0</td>\n      <td>1</td>\n      <td>0</td>\n      <td>0</td>\n      <td>0</td>\n      <td>0</td>\n      <td>0</td>\n      <td>1</td>\n      <td>0</td>\n    </tr>\n    <tr>\n      <th>1</th>\n      <td>1</td>\n      <td>1864.28</td>\n      <td>C1666544295</td>\n      <td>21249.0</td>\n      <td>19384.72</td>\n      <td>M2044282225</td>\n      <td>0.0</td>\n      <td>0.0</td>\n      <td>0</td>\n      <td>0</td>\n      <td>0</td>\n      <td>1</td>\n      <td>0</td>\n      <td>0</td>\n      <td>0</td>\n      <td>0</td>\n      <td>0</td>\n      <td>1</td>\n      <td>0</td>\n    </tr>\n    <tr>\n      <th>2</th>\n      <td>1</td>\n      <td>181.00</td>\n      <td>C1305486145</td>\n      <td>181.0</td>\n      <td>0.00</td>\n      <td>C553264065</td>\n      <td>0.0</td>\n      <td>0.0</td>\n      <td>1</td>\n      <td>0</td>\n      <td>0</td>\n      <td>1</td>\n      <td>0</td>\n      <td>0</td>\n      <td>0</td>\n      <td>0</td>\n      <td>0</td>\n      <td>0</td>\n      <td>1</td>\n    </tr>\n    <tr>\n      <th>3</th>\n      <td>1</td>\n      <td>181.00</td>\n      <td>C840083671</td>\n      <td>181.0</td>\n      <td>0.00</td>\n      <td>C38997010</td>\n      <td>21182.0</td>\n      <td>0.0</td>\n      <td>1</td>\n      <td>0</td>\n      <td>0</td>\n      <td>1</td>\n      <td>0</td>\n      <td>0</td>\n      <td>0</td>\n      <td>1</td>\n      <td>0</td>\n      <td>0</td>\n      <td>0</td>\n    </tr>\n    <tr>\n      <th>4</th>\n      <td>1</td>\n      <td>11668.14</td>\n      <td>C2048537720</td>\n      <td>41554.0</td>\n      <td>29885.86</td>\n      <td>M1230701703</td>\n      <td>0.0</td>\n      <td>0.0</td>\n      <td>0</td>\n      <td>0</td>\n      <td>0</td>\n      <td>1</td>\n      <td>0</td>\n      <td>0</td>\n      <td>0</td>\n      <td>0</td>\n      <td>0</td>\n      <td>1</td>\n      <td>0</td>\n    </tr>\n  </tbody>\n</table>\n</div>"
          },
          "metadata": {}
        }
      ]
    },
    {
      "cell_type": "markdown",
      "source": [
        "## 3. Split and Standardize\n",
        "> In this module we create the independent and dependent feature, then split them into train and test data where training size is 70%. Later we collect all the numerical features and apply StandardScaler() function which transforms the distribution so that the mean becomes 0 and standard deviation becomes 1"
      ],
      "metadata": {
        "id": "pQPrvFBJA6jt"
      }
    },
    {
      "cell_type": "code",
      "source": [
        "#Splitting dependent and independent variable\n",
        "paysim_2=paysim_1.copy()\n",
        "X=paysim_2.drop('isFraud',axis=1)\n",
        "y=paysim_2['isFraud']\n",
        "\n",
        "# Train-test split\n",
        "X_train, X_test, y_train, y_test = train_test_split(X, y, train_size=0.7, random_state=111)\n",
        "\n",
        "#Standardizing the numerical columns\n",
        "col_names=['amount','oldbalanceOrg','newbalanceOrig','oldbalanceDest','newbalanceDest']\n",
        "features_train = X_train[col_names]\n",
        "features_test = X_test[col_names]\n",
        "scaler = StandardScaler().fit(features_train.values)\n",
        "features_train = scaler.transform(features_train.values)\n",
        "features_test = scaler.transform(features_test.values)\n",
        "X_train[col_names] = features_train\n",
        "X_test[col_names] =features_test"
      ],
      "metadata": {
        "execution": {
          "iopub.status.busy": "2021-08-14T16:46:43.462972Z",
          "iopub.execute_input": "2021-08-14T16:46:43.463380Z",
          "iopub.status.idle": "2021-08-14T16:46:43.656068Z",
          "shell.execute_reply.started": "2021-08-14T16:46:43.463348Z",
          "shell.execute_reply": "2021-08-14T16:46:43.655158Z"
        },
        "trusted": true,
        "id": "5Kc5rt8lA6jt"
      },
      "execution_count": null,
      "outputs": []
    },
    {
      "cell_type": "markdown",
      "source": [
        "## 3. Tokenization\n",
        "> We had the customer ids and merchant ids stored in object type. It is bad to apply one hot encoding in it as it can lead to more features and curse of dimensionality can incur. Hence we are applying tokenization here as it can create an unique id number which is in 'int' type for each customer id"
      ],
      "metadata": {
        "id": "jy9rzL89A6jt"
      }
    },
    {
      "cell_type": "code",
      "source": [
        "#Tokenzation of customer name to get a unique id\n",
        "tokenizer_org = tf.keras.preprocessing.text.Tokenizer()\n",
        "tokenizer_org.fit_on_texts(X_train['nameOrig'])\n",
        "\n",
        "tokenizer_dest = tf.keras.preprocessing.text.Tokenizer()\n",
        "tokenizer_dest.fit_on_texts(X_train['nameDest'])\n",
        "\n",
        "# Create tokenized customer lists\n",
        "customers_train_org = tokenizer_org.texts_to_sequences(X_train['nameOrig'])\n",
        "customers_test_org = tokenizer_org.texts_to_sequences(X_test['nameOrig'])\n",
        "\n",
        "customers_train_dest = tokenizer_dest.texts_to_sequences(X_train['nameDest'])\n",
        "customers_test_dest = tokenizer_dest.texts_to_sequences(X_test['nameDest'])\n",
        "\n",
        "\n",
        "# Pad sequences\n",
        "X_train['customers_org'] = tf.keras.preprocessing.sequence.pad_sequences(customers_train_org, maxlen=1)\n",
        "X_test['customers_org'] = tf.keras.preprocessing.sequence.pad_sequences(customers_test_org, maxlen=1)\n",
        "\n",
        "X_train['customers_dest'] = tf.keras.preprocessing.sequence.pad_sequences(customers_train_dest, maxlen=1)\n",
        "X_test['customers_dest'] = tf.keras.preprocessing.sequence.pad_sequences(customers_test_dest, maxlen=1)"
      ],
      "metadata": {
        "execution": {
          "iopub.status.busy": "2021-08-14T16:46:43.657310Z",
          "iopub.execute_input": "2021-08-14T16:46:43.657606Z",
          "iopub.status.idle": "2021-08-14T16:46:47.789471Z",
          "shell.execute_reply.started": "2021-08-14T16:46:43.657580Z",
          "shell.execute_reply": "2021-08-14T16:46:47.788409Z"
        },
        "trusted": true,
        "id": "gbln4PxlA6jt"
      },
      "execution_count": null,
      "outputs": []
    },
    {
      "cell_type": "markdown",
      "source": [
        "### Dropping unnecessary columns\n",
        "> We dont need the sender and receiver id as we have tokenized them, also we dont required isFlaggedFraud as it is just an outcome of current algorithm."
      ],
      "metadata": {
        "id": "Ch5PZ8-rA6jt"
      }
    },
    {
      "cell_type": "code",
      "source": [
        "#Dropping unnecessary columns\n",
        "X_train=X_train.drop(['nameOrig','nameDest','isFlaggedFraud'],axis=1)\n",
        "X_train = X_train.reset_index(drop=True)\n",
        "\n",
        "X_test=X_test.drop(['nameOrig','nameDest','isFlaggedFraud'],axis=1)\n",
        "X_test = X_test.reset_index(drop=True)"
      ],
      "metadata": {
        "execution": {
          "iopub.status.busy": "2021-08-14T16:46:47.790711Z",
          "iopub.execute_input": "2021-08-14T16:46:47.790982Z",
          "iopub.status.idle": "2021-08-14T16:46:47.807516Z",
          "shell.execute_reply.started": "2021-08-14T16:46:47.790955Z",
          "shell.execute_reply": "2021-08-14T16:46:47.806592Z"
        },
        "trusted": true,
        "id": "GRUQozkUA6jt"
      },
      "execution_count": null,
      "outputs": []
    },
    {
      "cell_type": "markdown",
      "source": [
        "# 🤖 Model Building\n",
        "> We have successfully processed the data and it is time for serving the data to the model. It is time consuming to find out which model works best for our data. Hence I have utlized pipeline to run our data through all the classification algorithm and select the best which gives out the maximum accuracy."
      ],
      "metadata": {
        "id": "QRSEgFJ4A6ju"
      }
    },
    {
      "cell_type": "code",
      "source": [
        "#creating the objects\n",
        "logreg_cv = LogisticRegression(solver='liblinear',random_state=123)\n",
        "dt_cv=DecisionTreeClassifier(random_state=123)\n",
        "knn_cv=KNeighborsClassifier()\n",
        "svc_cv=SVC(kernel='linear',random_state=123)\n",
        "nb_cv=GaussianNB()\n",
        "rf_cv=RandomForestClassifier(random_state=123)\n",
        "cv_dict = {0: 'Logistic Regression', 1: 'Decision Tree',2:'KNN',3:'SVC',4:'Naive Bayes',5:'Random Forest'}\n",
        "cv_models=[logreg_cv,dt_cv,knn_cv,svc_cv,nb_cv,rf_cv]\n",
        "\n",
        "\n",
        "for i,model in enumerate(cv_models):\n",
        "    print(\"{} Test Accuracy: {}\".format(cv_dict[i],cross_val_score(model, X_train, y_train, cv=10, scoring ='accuracy').mean()))"
      ],
      "metadata": {
        "execution": {
          "iopub.status.busy": "2021-08-14T16:46:47.808790Z",
          "iopub.execute_input": "2021-08-14T16:46:47.809083Z",
          "iopub.status.idle": "2021-08-14T16:47:25.965375Z",
          "shell.execute_reply.started": "2021-08-14T16:46:47.809036Z",
          "shell.execute_reply": "2021-08-14T16:47:25.964589Z"
        },
        "trusted": true,
        "id": "Tr60Mu4EA6ju",
        "outputId": "5c2c68b4-75ea-4076-afce-c745f3761ecf"
      },
      "execution_count": null,
      "outputs": [
        {
          "name": "stdout",
          "text": "Logistic Regression Test Accuracy: 0.9655167477812767\nDecision Tree Test Accuracy: 0.9749498997995992\nKNN Test Accuracy: 0.9877755511022045\nSVC Test Accuracy: 0.9756369882622387\nNaive Bayes Test Accuracy: 0.9946321213856283\nRandom Forest Test Accuracy: 0.9931291153736044\n",
          "output_type": "stream"
        }
      ]
    },
    {
      "cell_type": "markdown",
      "source": [
        "## ⛮ Hyperparameter Tuning\n",
        "> Lets fit the Naive bayes model by tuning the model with its parameters. Here we are gonna tune var_smoothing which is a stability calculation to widen (or smooth) the curve and therefore account for more samples that are further away from the distribution mean. In this case, np.logspace returns numbers spaced evenly on a log scale, starts from 0, ends at -9, and generates 100 samples."
      ],
      "metadata": {
        "id": "Ne2OgnpsA6ju"
      }
    },
    {
      "cell_type": "code",
      "source": [
        "param_grid_nb = {\n",
        "    'var_smoothing': np.logspace(0,-9, num=100)\n",
        "}\n",
        "\n",
        "nbModel_grid = GridSearchCV(estimator=GaussianNB(), param_grid=param_grid_nb, verbose=1, cv=10, n_jobs=-1)\n",
        "nbModel_grid.fit(X_train, y_train)\n",
        "print(nbModel_grid.best_estimator_)"
      ],
      "metadata": {
        "execution": {
          "iopub.status.busy": "2021-08-14T16:47:25.966447Z",
          "iopub.execute_input": "2021-08-14T16:47:25.966861Z",
          "iopub.status.idle": "2021-08-14T16:47:46.215476Z",
          "shell.execute_reply.started": "2021-08-14T16:47:25.966833Z",
          "shell.execute_reply": "2021-08-14T16:47:46.214789Z"
        },
        "trusted": true,
        "id": "nEA6SMhPA6ju",
        "outputId": "5f7d7c00-78f0-4fe9-8968-c01e30012fe1"
      },
      "execution_count": null,
      "outputs": [
        {
          "name": "stdout",
          "text": "Fitting 10 folds for each of 100 candidates, totalling 1000 fits\n",
          "output_type": "stream"
        },
        {
          "name": "stderr",
          "text": "[Parallel(n_jobs=-1)]: Using backend LokyBackend with 4 concurrent workers.\n[Parallel(n_jobs=-1)]: Done  76 tasks      | elapsed:    1.6s\n[Parallel(n_jobs=-1)]: Done 376 tasks      | elapsed:    7.5s\n[Parallel(n_jobs=-1)]: Done 876 tasks      | elapsed:   17.6s\n",
          "output_type": "stream"
        },
        {
          "name": "stdout",
          "text": "GaussianNB(var_smoothing=8.111308307896856e-09)\n",
          "output_type": "stream"
        },
        {
          "name": "stderr",
          "text": "[Parallel(n_jobs=-1)]: Done 1000 out of 1000 | elapsed:   20.1s finished\n",
          "output_type": "stream"
        }
      ]
    },
    {
      "cell_type": "markdown",
      "source": [
        "# 🧪 Evaluation of model\n",
        "> Time to explore the truth of high numbers by evaluating against testing data"
      ],
      "metadata": {
        "id": "IpgtKrYyA6ju"
      }
    },
    {
      "cell_type": "code",
      "source": [
        "#Function for Confusion matrix\n",
        "def plot_confusion_matrix(cm, classes,\n",
        "                          normalize=False,\n",
        "                          title='Confusion matrix',\n",
        "                          cmap=plt.cm.Blues):\n",
        "    \"\"\"\n",
        "    This function prints and plots the confusion matrix.\n",
        "    Normalization can be applied by setting `normalize=True`.\n",
        "    \"\"\"\n",
        "\n",
        "    plt.imshow(cm, interpolation='nearest', cmap=cmap)\n",
        "    plt.title(title)\n",
        "    plt.colorbar()\n",
        "    tick_marks = np.arange(len(classes))\n",
        "    plt.xticks(tick_marks, classes, rotation=45)\n",
        "    plt.yticks(tick_marks, classes)\n",
        "\n",
        "    if normalize:\n",
        "        cm = cm.astype('float') / cm.sum(axis=1)[:, np.newaxis]\n",
        "        print(\"Normalized confusion matrix\")\n",
        "    else:\n",
        "        print('Confusion matrix, without normalization')\n",
        "\n",
        "    thresh = cm.max() / 2.\n",
        "    for i in range (cm.shape[0]):\n",
        "        for j in range (cm.shape[1]):\n",
        "            plt.text(j, i, cm[i, j],\n",
        "                 horizontalalignment=\"center\",\n",
        "                 color=\"white\" if cm[i, j] > thresh else \"black\")\n",
        "\n",
        "    plt.tight_layout()\n",
        "    plt.ylabel('True label')\n",
        "    plt.xlabel('Predicted label')"
      ],
      "metadata": {
        "_kg_hide-input": true,
        "execution": {
          "iopub.status.busy": "2021-08-14T16:47:46.216505Z",
          "iopub.execute_input": "2021-08-14T16:47:46.216916Z",
          "iopub.status.idle": "2021-08-14T16:47:46.225029Z",
          "shell.execute_reply.started": "2021-08-14T16:47:46.216887Z",
          "shell.execute_reply": "2021-08-14T16:47:46.224369Z"
        },
        "trusted": true,
        "id": "YmWZwm1hA6jx"
      },
      "execution_count": null,
      "outputs": []
    },
    {
      "cell_type": "code",
      "source": [
        "#Predict with the selected best parameter\n",
        "y_pred=nbModel_grid.predict(X_test)\n",
        "\n",
        "#Plotting confusion matrix\n",
        "cm = metrics.confusion_matrix(y_test, y_pred)\n",
        "plot_confusion_matrix(cm, classes=['Not Fraud','Fraud'])"
      ],
      "metadata": {
        "execution": {
          "iopub.status.busy": "2021-08-14T16:47:46.225979Z",
          "iopub.execute_input": "2021-08-14T16:47:46.226362Z",
          "iopub.status.idle": "2021-08-14T16:47:46.516983Z",
          "shell.execute_reply.started": "2021-08-14T16:47:46.226335Z",
          "shell.execute_reply": "2021-08-14T16:47:46.516217Z"
        },
        "trusted": true,
        "id": "yS4iqBf9A6jy",
        "outputId": "9e43ef8f-a3db-4822-98e3-3844696fd343"
      },
      "execution_count": null,
      "outputs": [
        {
          "name": "stdout",
          "text": "Confusion matrix, without normalization\n",
          "output_type": "stream"
        },
        {
          "output_type": "display_data",
          "data": {
            "text/plain": "<Figure size 432x288 with 2 Axes>",
            "image/png": "[encoded data removed]"
          },
          "metadata": {
            "needs_background": "light"
          }
        }
      ]
    },
    {
      "cell_type": "code",
      "source": [
        "#Classification metrics\n",
        "print(classification_report(y_test, y_pred, target_names=['Not Fraud','Fraud']))"
      ],
      "metadata": {
        "execution": {
          "iopub.status.busy": "2021-08-14T16:47:46.518006Z",
          "iopub.execute_input": "2021-08-14T16:47:46.518412Z",
          "iopub.status.idle": "2021-08-14T16:47:46.581856Z",
          "shell.execute_reply.started": "2021-08-14T16:47:46.518383Z",
          "shell.execute_reply": "2021-08-14T16:47:46.580860Z"
        },
        "trusted": true,
        "id": "zWEt9VpyA6jy",
        "outputId": "e71ffe44-d9c7-494b-fae3-cdc8d23a521a"
      },
      "execution_count": null,
      "outputs": [
        {
          "name": "stdout",
          "text": "              precision    recall  f1-score   support\n\n   Not Fraud       1.00      0.45      0.62     14902\n       Fraud       0.65      1.00      0.79     15038\n\n    accuracy                           0.73     29940\n   macro avg       0.82      0.72      0.70     29940\nweighted avg       0.82      0.73      0.70     29940\n\n",
          "output_type": "stream"
        }
      ]
    }
  ]
}